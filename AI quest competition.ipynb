{
 "cells": [
  {
   "cell_type": "code",
   "execution_count": 12,
   "metadata": {},
   "outputs": [],
   "source": [
    "import numpy as np\n",
    "import pandas as pd\n",
    "from matplotlib import pyplot as plt\n",
    "import lightgbm as lgb\n",
    "import seaborn as sns\n",
    "from sklearn.metrics import mean_squared_error\n",
    "from sklearn.linear_model import LinearRegression\n",
    "\n",
    "\n",
    "train_path = '/Users/yuichikuriyama/Desktop/AI Quest/train (3).csv'\n",
    "test_path = '/Users/yuichikuriyama/Desktop/AI Quest/test (3).csv'\n",
    "\n",
    "df = pd.read_csv(train_path)\n",
    "df_test = pd.read_csv(test_path)"
   ]
  },
  {
   "cell_type": "code",
   "execution_count": 13,
   "metadata": {},
   "outputs": [],
   "source": [
    "df[\"room_type\"] = df[\"room_type\"].replace(\"Shared room\",1.0).replace(\"Private room\",2.0).replace(\"Entire home/apt\",3.0)\n",
    "df[\"room_type\"] = df[\"room_type\"].astype(float).astype(int)\n",
    "\n",
    "df_test[\"room_type\"] = df_test[\"room_type\"].replace(\"Shared room\",1.0).replace(\"Private room\",2.0).replace(\"Entire home/apt\",3.0)\n",
    "df_test[\"room_type\"] = df_test[\"room_type\"].astype(float).astype(int)\n",
    "\n",
    "\n",
    "\n",
    "df[\"cancellation_policy\"] = df[\"cancellation_policy\"].replace(\"flexible\",\"1.0\").replace(\"moderate\",\"2.0\").replace(\"strict\",\"3.0\").replace(\"super_strict_30\",\"4.0\").replace(\"super_strict_60\",\"5.0\")\n",
    "df_test[\"cancellation_policy\"] = df_test[\"cancellation_policy\"].replace(\"flexible\",\"1.0\").replace(\"moderate\",\"2.0\").replace(\"strict\",\"3.0\").replace(\"super_strict_30\",\"4.0\").replace(\"super_strict_60\",\"5.0\")\n",
    "\n",
    "df[\"cancellation_policy\"] = df[\"cancellation_policy\"].astype(float).astype(int)\n",
    "df_test[\"cancellation_policy\"] = df_test[\"cancellation_policy\"].astype(float).astype(int)\n",
    "\n",
    "\n",
    "df[\"bed_type\"] = df[\"bed_type\"].replace(\"Couch\",1.0).replace(\"Futon\",2.0).replace(\"Airbed\",3.0).replace(\"Pull-out Sofa\",4.0).replace(\"Real Bed\",5.0)\n",
    "df_test[\"bed_type\"] = df_test[\"bed_type\"].replace(\"Couch\",1.0).replace(\"Futon\",2.0).replace(\"Airbed\",3.0).replace(\"Pull-out Sofa\",4.0).replace(\"Real Bed\",5.0)\n",
    "\n",
    "df[\"bed_type\"] = df[\"bed_type\"].astype(float).astype(int)\n",
    "df_test[\"bed_type\"] = df_test[\"bed_type\"].astype(float).astype(int)\n",
    "\n",
    "df['url'] = (df.thumbnail_url.isna()).astype('int')\n",
    "df_test['url'] = (df.thumbnail_url.isna()).astype('int')\n",
    "\n",
    "df[\"city\"] = df[\"city\"].replace(\"NYC\",\"1.0\").replace(\"LA\",\"2.0\").replace(\"SF\",\"3.0\").replace(\"DC\",\"4.0\").replace(\"Chicago\",\"5.0\").replace(\"Boston\",\"6.0\")\n",
    "df_test[\"city\"] = df_test[\"city\"].replace(\"NYC\",\"1.0\").replace(\"LA\",\"2.0\").replace(\"SF\",\"3.0\").replace(\"DC\",\"4.0\").replace(\"Chicago\",\"5.0\").replace(\"Boston\",\"6.0\")\n",
    "\n",
    "\n",
    "df[\"city\"] = df[\"city\"].astype(float).astype(int)\n",
    "df_test[\"city\"] = df_test[\"city\"].astype(float).astype(int)\n",
    "\n",
    "\n",
    "\n",
    "\n",
    "def change_tf(x):\n",
    "    if  x==\"t\":\n",
    "        return 1\n",
    "    elif x==\"f\":\n",
    "        return 0\n",
    "df['cleaning_fee'] = df['cleaning_fee'].apply(change_tf)\n",
    "df_test['cleaning_fee'] = df_test['cleaning_fee'].apply(change_tf)\n",
    "\n",
    "\n",
    "\n",
    "df['url'] = (df.thumbnail_url.isna()).astype('int')\n",
    "df_test['url'] = (df_test.thumbnail_url.isna()).astype('int')\n",
    "\n",
    "df['first_review'] = (df.first_review.isna()).astype('int')\n",
    "df_test['first_review'] = (df_test.first_review.isna()).astype('int')\n",
    "\n",
    "\n",
    "\n",
    "df[\"cleaning_fee\"] = df[\"cleaning_fee\"].astype(float).astype(int)\n",
    "df_test[\"cleaning_fee\"] = df_test[\"cleaning_fee\"].astype(float).astype(int)\n"
   ]
  },
  {
   "cell_type": "code",
   "execution_count": 14,
   "metadata": {},
   "outputs": [],
   "source": [
    "df[\"multiple\"] = df[\"number_of_reviews\"]*df[\"review_scores_rating\"]\n",
    "df_test[\"multiple\"] = df_test[\"number_of_reviews\"]*df_test[\"review_scores_rating\"]"
   ]
  },
  {
   "cell_type": "code",
   "execution_count": 24,
   "metadata": {},
   "outputs": [],
   "source": [
    "X= df[[\"accommodates\",\"beds\",\"bathrooms\",\"bedrooms\",\"cancellation_policy\",\"room_type\",\"bed_type\",\"city\",\"multiple\",\"cleaning_fee\",\"first_review\"]]\n",
    "y=  df[\"y\"]"
   ]
  },
  {
   "cell_type": "code",
   "execution_count": 16,
   "metadata": {},
   "outputs": [],
   "source": [
    "from sklearn.model_selection import train_test_split, KFold, cross_validate, cross_val_score\n",
    "kf = KFold(n_splits=4, shuffle=True, random_state=71)\n",
    "for tr_idx,va_idx in kf.split(X,y):\n",
    "    tr_x,va_x =X.iloc[tr_idx], X.iloc[va_idx]\n",
    "    tr_y,va_y =y.iloc[tr_idx], y.iloc[va_idx]\n",
    "    "
   ]
  },
  {
   "cell_type": "code",
   "execution_count": 17,
   "metadata": {},
   "outputs": [
    {
     "data": {
      "text/plain": [
       "LGBMRegressor(boosting_type='gbdt', class_weight=None, colsample_bytree=1.0,\n",
       "              importance_type='split', learning_rate=0.1, max_depth=-1,\n",
       "              min_child_samples=20, min_child_weight=0.001, min_split_gain=0.0,\n",
       "              n_estimators=100, n_jobs=-1, num_leaves=31, objective=None,\n",
       "              random_state=None, reg_alpha=0.0, reg_lambda=0.0, silent=True,\n",
       "              subsample=1.0, subsample_for_bin=200000, subsample_freq=0)"
      ]
     },
     "execution_count": 17,
     "metadata": {},
     "output_type": "execute_result"
    }
   ],
   "source": [
    "model = lgb.LGBMRegressor()\n",
    "model.fit(tr_x,tr_y)"
   ]
  },
  {
   "cell_type": "code",
   "execution_count": 107,
   "metadata": {},
   "outputs": [
    {
     "name": "stdout",
     "output_type": "stream",
     "text": [
      "Fitting 5 folds for each of 90 candidates, totalling 450 fits\n"
     ]
    },
    {
     "name": "stderr",
     "output_type": "stream",
     "text": [
      "[Parallel(n_jobs=-1)]: Using backend LokyBackend with 4 concurrent workers.\n",
      "[Parallel(n_jobs=-1)]: Done  24 tasks      | elapsed:   24.4s\n",
      "[Parallel(n_jobs=-1)]: Done 120 tasks      | elapsed:  7.6min\n",
      "[Parallel(n_jobs=-1)]: Done 280 tasks      | elapsed: 15.2min\n",
      "[Parallel(n_jobs=-1)]: Done 450 out of 450 | elapsed: 21.0min finished\n"
     ]
    },
    {
     "data": {
      "text/plain": [
       "GridSearchCV(cv=5, error_score=nan,\n",
       "             estimator=LGBMRegressor(boosting_type='gbdt', class_weight=None,\n",
       "                                     colsample_bytree=1.0,\n",
       "                                     importance_type='split', learning_rate=0.1,\n",
       "                                     max_depth=-1, min_child_samples=20,\n",
       "                                     min_child_weight=0.001, min_split_gain=0.0,\n",
       "                                     n_estimators=100, n_jobs=-1, num_leaves=31,\n",
       "                                     objective=None, random_state=None,\n",
       "                                     reg_alpha=0.0, reg_lambda=0.0, silent=True,\n",
       "                                     subsample=1.0, subsample_for_bin=200000,\n",
       "                                     subsample_freq=0),\n",
       "             iid='deprecated', n_jobs=-1,\n",
       "             param_grid={'learning_rate': [0.01, 0.05, 0.1],\n",
       "                         'max_depth': [3, 5, 7, 10, 25],\n",
       "                         'n_estimators': [100, 200, 500],\n",
       "                         'num_leaves': [300, 900]},\n",
       "             pre_dispatch='2*n_jobs', refit=True, return_train_score=True,\n",
       "             scoring='neg_mean_squared_error', verbose=3)"
      ]
     },
     "execution_count": 107,
     "metadata": {},
     "output_type": "execute_result"
    }
   ],
   "source": [
    "from sklearn.model_selection import GridSearchCV\n",
    "model = lgb.LGBMRegressor()\n",
    "\n",
    "param_grid = {\"max_depth\": [3,5,7,10, 25],\n",
    "              \"learning_rate\" : [0.01,0.05,0.1],\n",
    "              \"num_leaves\": [300,900],\n",
    "              \"n_estimators\": [100,200,500,]\n",
    "             }\n",
    "# パラメータチューニングをグリッドサーチで行うために設定する\n",
    "## このGridSearchCV には注意が必要 scoring は そのスコアを基準にして最適化する\n",
    "grid_result = GridSearchCV(estimator = model,\n",
    "                           param_grid = param_grid,\n",
    "                           scoring =  \"neg_mean_squared_error\",\n",
    "                           cv = 5,\n",
    "                           verbose=3,\n",
    "                           return_train_score = True,\n",
    "                           n_jobs = -1)\n",
    "\n",
    "grid_result.fit(tr_x,tr_y)"
   ]
  },
  {
   "cell_type": "code",
   "execution_count": 18,
   "metadata": {},
   "outputs": [
    {
     "name": "stdout",
     "output_type": "stream",
     "text": [
      "105.77588102492159\n"
     ]
    }
   ],
   "source": [
    "y_pred_train = model.predict(tr_x)\n",
    "from sklearn.metrics import mean_squared_error as MSE\n",
    "mse = MSE(y_pred_train,tr_y )\n",
    "rmse_train = np.sqrt(mse)\n",
    "print(rmse_train)"
   ]
  },
  {
   "cell_type": "code",
   "execution_count": 19,
   "metadata": {},
   "outputs": [
    {
     "name": "stdout",
     "output_type": "stream",
     "text": [
      "105.77588102492159\n",
      "124.70020239110289\n"
     ]
    }
   ],
   "source": [
    "y_pred_test = model.predict(va_x)\n",
    "\n",
    "mse_test = MSE(va_y, y_pred_test)\n",
    "rmse_test = np.sqrt(mse_test)\n",
    "print(rmse_train)\n",
    "print(rmse_test)\n"
   ]
  },
  {
   "cell_type": "code",
   "execution_count": 23,
   "metadata": {},
   "outputs": [],
   "source": [
    "X_test= df_test[[\"accommodates\",\"beds\",\"bathrooms\",\"bedrooms\",\"cancellation_policy\",\"room_type\",\"bed_type\",\"city\",\"multiple\",\"cleaning_fee\",\"first_review\"]]"
   ]
  },
  {
   "cell_type": "code",
   "execution_count": 21,
   "metadata": {},
   "outputs": [],
   "source": [
    "test_pred = model.predict(X_test)"
   ]
  },
  {
   "cell_type": "code",
   "execution_count": 22,
   "metadata": {},
   "outputs": [],
   "source": [
    "sample = pd.read_csv(\"/Users/yuichikuriyama/Desktop/AI Quest/sample_submit (1).csv\",header=None)\n",
    "sample[1] = test_pred\n",
    "sample.to_csv(\"/Users/yuichikuriyama/Desktop/AI Quest/sample_submit (1).csv\", index=None, header=None)"
   ]
  },
  {
   "cell_type": "code",
   "execution_count": null,
   "metadata": {},
   "outputs": [],
   "source": []
  }
 ],
 "metadata": {
  "kernelspec": {
   "display_name": "Python 3",
   "language": "python",
   "name": "python3"
  },
  "language_info": {
   "codemirror_mode": {
    "name": "ipython",
    "version": 3
   },
   "file_extension": ".py",
   "mimetype": "text/x-python",
   "name": "python",
   "nbconvert_exporter": "python",
   "pygments_lexer": "ipython3",
   "version": "3.7.6"
  }
 },
 "nbformat": 4,
 "nbformat_minor": 4
}
